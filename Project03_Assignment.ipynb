{
 "cells": [
  {
   "cell_type": "markdown",
   "id": "cddf5de3-a9f3-4471-bbaf-aca41a70ce89",
   "metadata": {},
   "source": [
    "### INST326 OOP Project 03"
   ]
  },
  {
   "cell_type": "markdown",
   "id": "2bb7f115-9eba-4f29-918e-b016e6a7edc8",
   "metadata": {},
   "source": [
    "Rename this notebook, replacing \"_Assignment\" with \"_YourName\"<br>\n",
    "Insert Signature Block Here"
   ]
  },
  {
   "cell_type": "code",
   "execution_count": null,
   "id": "0a54d877-8159-4244-b47a-27e77e247f4f",
   "metadata": {},
   "outputs": [],
   "source": [
    "Maya Corrado\n",
    "Semir Kemal\n",
    "Ibrahim Khan\n",
    "\n",
    "    INST326 Section 0201\n",
    "    Project 3\n",
    "    Date Due: \n",
    "\n",
    "Honor Pledge\n",
    "\n",
    "    I pledge that the work contained in this assignment is my own, and that I have complied with University and course policies on academic integrity, and AI use.\n",
    "\n",
    "Disclosures and Citations:"
   ]
  },
  {
   "cell_type": "markdown",
   "id": "8ee05bdb-db2d-41c2-9f23-3af75d058612",
   "metadata": {},
   "source": [
    "### The Project\n",
    "Everyone will do the same project this time. This is a group project, so you must work in your assigned groups. Include the link to your group's GitHub repository (one link per group). Use comments in your code to document your solution. If you need to write comments to the grader, add a markdown cell immediately above your code solution and add your comments there. Be sure to read and follow all the requirements and the Notebook Instructions at the bottom of this notebook. Your grade may depend on it!"
   ]
  },
  {
   "cell_type": "markdown",
   "id": "a1c98e85-2c64-4a03-8309-d91035cca6d2",
   "metadata": {},
   "source": [
    "#### 1. A Scheduling Program\n",
    ">  My wife is responsible for scheduling caregivers for her 93 year-old mother. Currently she writes out the schedule on a monthly calendar and photocopies it for everyone. I want all of you to help me write a program to help her with scheduling. While this is a specific application, this program will be broadly useful and adaptable to any scheduling needs for small businesses, clubs, and more."
   ]
  },
  {
   "cell_type": "markdown",
   "id": "28b28d8a-dbb3-4f15-bbe0-e14504b84876",
   "metadata": {},
   "source": [
    "#### Requirements\n",
    ">  Care is required 12 hours per day, 7 days a week. There are two shifts each day: 7:00 AM - 1:00 PM, and 1:00 PM to 7:00 PM. There are a total of 8 caregivers. Some are family members and some are paid. Each caregiver has their own availability for shifts that is generally the same from month to month, but there are exceptions for work, vacations, and other responsibilities. Your program should do the following:\n",
    "> 1. Manage caregivers and their schedules. Attributes include: name, phone, email, pay rate, and hours.\n",
    "> 2. Each caregiver should have their own availability schedule where they can indicate their availability for each shift. Availability categories are 'preferred', 'available' (default), and 'unavailable'.\n",
    "> 3. Create a care schedule that covers AM and PM shifts and displays caregiver names on a calendar (see example). The schedule should accomodate caregivers' individual schedules and availability preferences. The python calendar module provides options for creating HTML calendars. Sample code for the HTML calendar is in the project folder.\n",
    "> 4. Paid caregivers are paid weekly at $20/hr. Your program should calculate weekly pay based on assigned hours. Provide a separate pay report that lists weekly (gross: hours x rate) amounts to each caregiver, along with weekly and monthly totals. The report can be a text document, or presented in GUI or HTML format. "
   ]
  },
  {
   "cell_type": "markdown",
   "id": "6708f6cf-aac7-430e-947d-6f9c8dd161f6",
   "metadata": {
    "jp-MarkdownHeadingCollapsed": true
   },
   "source": [
    "#### Group Requirements\n",
    ">  1. Your submitted project should follow OOP principles like abstraction, encapsulation, inheritance, and polymorphism as appropriate. Your program should use classes. \n",
    ">  2. Select a group leader who will host the group's project repository on their GitHub.\n",
    ">  3. Create the group repository and add a main program document. See example.\n",
    ">  4. Create branches off the main program for each group member, and assign part of the program to each member.\n",
    ">  5. Each member should work on their branch.\n",
    ">  6. When each member is finished, merge the branches back into the main program. You may use 'merge' or 'pull requests', your choice.\n",
    ">  7. iterate and debug as necessary."
   ]
  },
  {
   "cell_type": "markdown",
   "id": "71b8f18e-607a-4c94-81a3-ebbc488ba8c6",
   "metadata": {},
   "source": [
    "#### Working with HTML\n",
    "> Since this is a course on python, not HTML, you are not expected to know HTML. Therefore, you may copy applicable portions of the sample code or use AI to write the HTML portions of your application. Ypu should write the main python code yourself.\n"
   ]
  },
  {
   "cell_type": "markdown",
   "id": "fc336368-4292-42af-aa60-06b27ff6b303",
   "metadata": {
    "jp-MarkdownHeadingCollapsed": true
   },
   "source": [
    "#### What you need to turn in\n",
    ">  This is a group project. There will be one submission per group. Your submission will be graded as a group.\n",
    ">  1. Include your group number and the names of all group members in the signature block at the top of this notebook.\n",
    ">  2. In the cell below, paste the link to your project repository. One link per group. The grader will review the activity and history provided by GitHub. To add a hyperlink to a Jupyter markdown cell, follow the instructions in the cell below.\n",
    ">  3. Below the GitHub Repository Link cell is a code cell. Copy and paste your final program code into this cell."
   ]
  },
  {
   "cell_type": "markdown",
   "id": "3ece03e6-a41f-484d-8417-d8c4e156b2c0",
   "metadata": {},
   "source": [
    "#### GitHub Repository Link\n",
    "> Example: [INST326_Fall2024/Projects/Project03](https://github.com/sdempwolf/INST326_Fall_2024/tree/main/Projects/Project03)\n",
    ">\n",
    "> Edit the link code below with your information, then run this cell. Test the link! It should take you to your GitHub project repository.\n",
    "> [external link text](http://url_here)"
   ]
  },
  {
   "cell_type": "markdown",
   "id": "124a535b-569c-48d9-bc5e-dbe8a797676b",
   "metadata": {},
   "source": [
    "#### GitHub Repository Link\n",
    "> [Group 10 Project 3](https://github.com/zcorrado/Group10_Project3)"
   ]
  },
  {
   "cell_type": "markdown",
   "id": "ec8ddd19-87cd-475d-a07f-7dc8983dc636",
   "metadata": {},
   "source": [
    "### Notebook Instructions\n",
    "> Before turning in your notebook:\n",
    "> 1. Make sure you have renamed the notebook file as instructed\n",
    "> 2. Make sure you have included your signature block and that it is correct according to the instructions\n",
    "> 3. comment your code as necessary\n",
    "> 4. run all code cells and double check that they run correctly. If you can't get your code to run correctly and you want partial credit, add a note for the grader in a new markdown cell directly above your code solution.<br><br>\n",
    "Turn in your notebook by uploading it to ELMS<br>\n",
    "IF the exercises involve saved data files, put your notebook and the data file(s) in a zip folder and upload the zip folder to ELMS"
   ]
  },
  {
   "cell_type": "code",
   "execution_count": 4,
   "id": "c2f96be2-9bc0-46ea-98fb-51d8c07c7de8",
   "metadata": {},
   "outputs": [
    {
     "name": "stdout",
     "output_type": "stream",
     "text": [
      "Weekly Pay Report\n",
      "-----------------\n",
      "Alice: $7080\n",
      "Bob: $120\n",
      "\n"
     ]
    }
   ],
   "source": [
    "import calendar\n",
    "from collections import defaultdict\n",
    "\n",
    "# Caregiver class\n",
    "class Caregiver:\n",
    "    def __init__(self, name, phone, email, pay_rate=20):\n",
    "        self.name = name\n",
    "        self.phone = phone\n",
    "        self.email = email\n",
    "        self.pay_rate = pay_rate\n",
    "        self.availability = self.initialize_availability()\n",
    "\n",
    "    def initialize_availability(self):\n",
    "        # Default: available for all shifts\n",
    "        return {day: {\"AM\": \"available\", \"PM\": \"available\"} for day in range(1, 32)}\n",
    "\n",
    "    def set_availability(self, day, shift, status):\n",
    "        # Status: 'preferred', 'available', 'unavailable'\n",
    "        if day in self.availability and shift in self.availability[day]:\n",
    "            self.availability[day][shift] = status\n",
    "\n",
    "    def __repr__(self):\n",
    "        return f\"Caregiver({self.name}, {self.email}, Pay Rate: ${self.pay_rate}/hr)\"\n",
    "\n",
    "\n",
    "\n",
    "\n",
    "\n",
    "\n",
    "\n",
    "\n",
    "\n",
    "# Schedule class\n",
    "class Schedule:\n",
    "    def __init__(self, year, month):\n",
    "        self.year = year\n",
    "        self.month = month\n",
    "        self.caregivers = []\n",
    "        self.schedule = defaultdict(lambda: {\"AM\": None, \"PM\": None})\n",
    "\n",
    "    def add_caregiver(self, caregiver):\n",
    "        self.caregivers.append(caregiver)\n",
    "\n",
    "    def assign_shifts(self):\n",
    "        days_in_month = calendar.monthrange(self.year, self.month)[1]\n",
    "        for day in range(1, days_in_month + 1):\n",
    "            for shift in [\"AM\", \"PM\"]:\n",
    "                for caregiver in self.caregivers:\n",
    "                    if caregiver.availability[day][shift] == \"preferred\":\n",
    "                        self.schedule[day][shift] = caregiver.name\n",
    "                        break\n",
    "                    elif caregiver.availability[day][shift] == \"available\" and self.schedule[day][shift] is None:\n",
    "                        self.schedule[day][shift] = caregiver.name\n",
    "\n",
    "    def generate_html_calendar(self):\n",
    "        # Generate HTML calendar with assigned caregivers\n",
    "        cal = calendar.HTMLCalendar()\n",
    "        html = cal.formatmonth(self.year, self.month)\n",
    "        for day, shifts in self.schedule.items():\n",
    "            for shift, caregiver in shifts.items():\n",
    "                if caregiver:\n",
    "                    html = html.replace(f\">{day}<\", f\">{day}<br>{shift}: {caregiver}<\")\n",
    "        return html\n",
    "\n",
    "\n",
    "\n",
    "\n",
    "\n",
    "\n",
    "\n",
    "# PayReport class\n",
    "class PayReport:\n",
    "    def __init__(self, caregivers, schedule):\n",
    "        self.caregivers = caregivers\n",
    "        self.schedule = schedule\n",
    "        self.pay_data = {caregiver.name: 0 for caregiver in caregivers}\n",
    "\n",
    "    def calculate_pay(self):\n",
    "        for day, shifts in self.schedule.items():\n",
    "            for shift, caregiver_name in shifts.items():\n",
    "                if caregiver_name:\n",
    "                    caregiver = next(c for c in self.caregivers if c.name == caregiver_name)\n",
    "                    self.pay_data[caregiver.name] += 6 * caregiver.pay_rate\n",
    "\n",
    "    def generate_report(self):\n",
    "        report = \"Weekly Pay Report\\n\"\n",
    "        report += \"-----------------\\n\"\n",
    "        for caregiver, amount in self.pay_data.items():\n",
    "            report += f\"{caregiver}: ${amount}\\n\"\n",
    "        return report\n",
    "\n",
    "\n",
    "\n",
    "\n",
    "\n",
    "\n",
    "\n",
    "\n",
    "# Main program\n",
    "if __name__ == \"__main__\":\n",
    "    # Initialize caregivers\n",
    "    caregiver1 = Caregiver(\"Alice\", \"123-456-7890\", \"alice@example.com\")\n",
    "    caregiver2 = Caregiver(\"Bob\", \"987-654-3210\", \"bob@example.com\")\n",
    "\n",
    "    # Set availability\n",
    "    caregiver1.set_availability(1, \"AM\", \"preferred\")\n",
    "    caregiver2.set_availability(1, \"PM\", \"preferred\")\n",
    "\n",
    "    # Create schedule\n",
    "    schedule = Schedule(2024, 11)\n",
    "    schedule.add_caregiver(caregiver1)\n",
    "    schedule.add_caregiver(caregiver2)\n",
    "    schedule.assign_shifts()\n",
    "\n",
    "    # Generate and save HTML calendar\n",
    "    html_calendar = schedule.generate_html_calendar()\n",
    "    with open(\"care_schedule.html\", \"w\") as file:\n",
    "        file.write(html_calendar)\n",
    "\n",
    "    # Create pay report\n",
    "    pay_report = PayReport(schedule.caregivers, schedule.schedule)\n",
    "    pay_report.calculate_pay()\n",
    "    print(pay_report.generate_report())"
   ]
  },
  {
   "cell_type": "code",
   "execution_count": null,
   "id": "7be062c0",
   "metadata": {},
   "outputs": [],
   "source": []
  }
 ],
 "metadata": {
  "kernelspec": {
   "display_name": "Python 3 (ipykernel)",
   "language": "python",
   "name": "python3"
  },
  "language_info": {
   "codemirror_mode": {
    "name": "ipython",
    "version": 3
   },
   "file_extension": ".py",
   "mimetype": "text/x-python",
   "name": "python",
   "nbconvert_exporter": "python",
   "pygments_lexer": "ipython3",
   "version": "3.11.5"
  }
 },
 "nbformat": 4,
 "nbformat_minor": 5
}
